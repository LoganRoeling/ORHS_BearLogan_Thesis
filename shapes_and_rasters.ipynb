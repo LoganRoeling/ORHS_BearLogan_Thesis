{
 "cells": [
  {
   "cell_type": "code",
   "execution_count": 1,
   "metadata": {},
   "outputs": [
    {
     "name": "stdout",
     "output_type": "stream",
     "text": [
      "Using matplotlib backend: MacOSX\n"
     ]
    }
   ],
   "source": [
    "%matplotlib"
   ]
  },
  {
   "cell_type": "code",
   "execution_count": 24,
   "metadata": {},
   "outputs": [],
   "source": [
    "import rasterio\n",
    "import rasterio.transform\n",
    "import fiona\n",
    "import shapely\n",
    "import shapely.geometry\n",
    "import pyproj\n",
    "\n",
    "from matplotlib import pyplot as plt\n",
    "import numpy as np\n",
    "import mpl_toolkits.basemap as pbm"
   ]
  },
  {
   "cell_type": "code",
   "execution_count": 6,
   "metadata": {},
   "outputs": [],
   "source": [
    "# warping crs\n",
    "def warp_xy(x, y, old_crs, new_crs):\n",
    "    \"\"\"Warps a set of points from old_crs to new_crs.\"\"\"\n",
    "    if old_crs == new_crs:\n",
    "        return x,y\n",
    "\n",
    "    old_crs_proj = pyproj.Proj(old_crs)\n",
    "    new_crs_proj = pyproj.Proj(new_crs)\n",
    "    return pyproj.transform(old_crs_proj, new_crs_proj, x,y)\n",
    "\n",
    "def warp_shapely(shp, old_crs, new_crs):\n",
    "    \"\"\"Uses proj to reproject shapes, NOT IN PLACE\"\"\"\n",
    "    if old_crs['init'] == new_crs['init']:\n",
    "        return shp\n",
    "\n",
    "    old_crs_proj = pyproj.Proj(old_crs)\n",
    "    new_crs_proj = pyproj.Proj(new_crs)\n",
    "    return shapely.ops.transform(lambda x,y:pyproj.transform(old_crs_proj, new_crs_proj, x,y), shp)\n",
    "\n",
    "def warp_shape(feature, old_crs, new_crs):\n",
    "    \"\"\"Uses proj to reproject shapes, IN PLACE\"\"\"\n",
    "    if old_crs == new_crs:\n",
    "        return\n",
    "    if len(feature['geometry']['coordinates']) is 0:\n",
    "        return\n",
    "\n",
    "    # find the dimension -- can't trust the shape\n",
    "    dim = -1\n",
    "    ptr = feature['geometry']['coordinates']\n",
    "    done = False\n",
    "    while not done:\n",
    "        if hasattr(ptr, '__len__'):        \n",
    "            assert(len(ptr) is not 0)\n",
    "            dim += 1\n",
    "            ptr = ptr[0]\n",
    "        else:\n",
    "            done = True\n",
    "\n",
    "    if dim == 0:\n",
    "        # point\n",
    "        x,y = warp_xy(np.array([feature['geometry']['coordinates'][0],]), np.array([feature['geometry']['coordinates'][1],]), old_crs, new_crs)\n",
    "        feature['geometry']['coordinates'][0] = x[0]\n",
    "        feature['geometry']['coordinates'][1] = x[1]\n",
    "    elif dim == 1:\n",
    "        # line-like or polygon with no holes\n",
    "        coords = np.array(feature['geometry']['coordinates'],'d')\n",
    "        assert(len(coords.shape) is 2 and coords.shape[1] in [2,3] )\n",
    "        x,y = warp_xy(coords[:,0], coords[:,1], old_crs, new_crs)\n",
    "        new_coords = [xy for xy in zip(x,y)]\n",
    "        feature['geometry']['coordinates'] = new_coords\n",
    "    elif dim == 2:\n",
    "        # multi-line or polygon with holes\n",
    "        for i in range(len(feature['geometry']['coordinates'])):\n",
    "            coords = np.array(feature['geometry']['coordinates'][i],'d')\n",
    "            assert(len(coords.shape) is 2 and coords.shape[1] in [2,3])\n",
    "            x,y = warp_xy(coords[:,0], coords[:,1], old_crs, new_crs)\n",
    "            new_coords = [xy for xy in zip(x,y)]\n",
    "            feature['geometry']['coordinates'][i] = new_coords\n",
    "    elif dim == 3:\n",
    "        # multi-polygon\n",
    "        for i in range(len(feature['geometry']['coordinates'])):\n",
    "            for j in range(len(feature['geometry']['coordinates'][i])):\n",
    "                coords = np.array(feature['geometry']['coordinates'][i][j],'d')\n",
    "                assert(len(coords.shape) is 2 and coords.shape[1] in [2,3])\n",
    "                x,y = warp_xy(coords[:,0], coords[:,1], old_crs, new_crs)\n",
    "                new_coords = [xy for xy in zip(x,y)]\n",
    "                feature['geometry']['coordinates'][i][j] = new_coords\n",
    "            \n",
    "                    \n",
    "    \n"
   ]
  },
  {
   "cell_type": "code",
   "execution_count": 3,
   "metadata": {},
   "outputs": [
    {
     "name": "stdout",
     "output_type": "stream",
     "text": [
      "we found 945 shapes\n"
     ]
    }
   ],
   "source": [
    "# import MSA shapes\n",
    "with fiona.open('./data/MSAs/tl_2017_us_cbsa/tl_2017_us_cbsa.shp', 'r') as fid:\n",
    "    msas = list(fid)\n",
    "    msas_profile = fid.profile\n",
    "    \n",
    "print(\"we found {} shapes\".format(len(msas)))"
   ]
  },
  {
   "cell_type": "code",
   "execution_count": 26,
   "metadata": {},
   "outputs": [
    {
     "name": "stderr",
     "output_type": "stream",
     "text": [
      "/Users/uec/codes/anaconda/3/envs/ats_meshing_20190613/lib/python3.7/site-packages/ipykernel_launcher.py:4: MatplotlibDeprecationWarning: \n",
      "The dedent function was deprecated in Matplotlib 3.1 and will be removed in 3.3. Use inspect.cleandoc instead.\n",
      "  after removing the cwd from sys.path.\n",
      "/Users/uec/codes/anaconda/3/envs/ats_meshing_20190613/lib/python3.7/site-packages/ipykernel_launcher.py:5: MatplotlibDeprecationWarning: \n",
      "The dedent function was deprecated in Matplotlib 3.1 and will be removed in 3.3. Use inspect.cleandoc instead.\n",
      "  \"\"\"\n",
      "/Users/uec/codes/anaconda/3/envs/ats_meshing_20190613/lib/python3.7/site-packages/ipykernel_launcher.py:6: MatplotlibDeprecationWarning: \n",
      "The dedent function was deprecated in Matplotlib 3.1 and will be removed in 3.3. Use inspect.cleandoc instead.\n",
      "  \n"
     ]
    }
   ],
   "source": [
    "# plot the shapes\n",
    "plt.figure()\n",
    "\n",
    "bm = pbm.Basemap(llcrnrlon=-130, llcrnrlat=23, urcrnrlon=-68, urcrnrlat=52, resolution='h', epsg=msas_profile['crs']['init'][5:])\n",
    "bm.drawcountries(linewidth=1, color='darkgoldenrod')\n",
    "bm.drawstates(color='darkgoldenrod')\n",
    "\n",
    "# -- convert to shapely\n",
    "for shp in msas:\n",
    "    shply = shapely.geometry.shape(shp['geometry'])\n",
    "    if type(shply) is shapely.geometry.Polygon:\n",
    "        xy = np.array(shply.exterior.xy)\n",
    "        plt.plot(xy[0], xy[1], 'b')\n",
    "    elif type(shply) is shapely.geometry.MultiPolygon:\n",
    "        for poly in shply:\n",
    "            xy = np.array(poly.exterior.xy)\n",
    "            plt.plot(xy[0], xy[1], 'r')\n",
    "    else:\n",
    "        print('found an object of type: {}'.format(type(shply)))\n",
    "        \n",
    "\n",
    "plt.show()\n",
    "\n"
   ]
  },
  {
   "cell_type": "code",
   "execution_count": 4,
   "metadata": {},
   "outputs": [],
   "source": [
    "with rasterio.open('./data/NLCD/NLCD_2016_Impervious_L48_20190405.img','r') as fid:\n",
    "    rprof = fid.profile\n"
   ]
  },
  {
   "cell_type": "code",
   "execution_count": 5,
   "metadata": {},
   "outputs": [
    {
     "name": "stdout",
     "output_type": "stream",
     "text": [
      "What CRS are we working in?\n",
      "  crs of MSAs: {'init': 'epsg:4269'}\n",
      "  crs of NLCD: PROJCS[\"Albers_Conical_Equal_Area\",GEOGCS[\"WGS 84\",DATUM[\"WGS_1984\",SPHEROID[\"WGS 84\",6378137,298.257223563,AUTHORITY[\"EPSG\",\"7030\"]],TOWGS84[0,0,0,-0,-0,-0,0],AUTHORITY[\"EPSG\",\"6326\"]],PRIMEM[\"Greenwich\",0,AUTHORITY[\"EPSG\",\"8901\"]],UNIT[\"degree\",0.0174532925199433,AUTHORITY[\"EPSG\",\"9122\"]],AUTHORITY[\"EPSG\",\"4326\"]],PROJECTION[\"Albers_Conic_Equal_Area\"],PARAMETER[\"standard_parallel_1\",29.5],PARAMETER[\"standard_parallel_2\",45.5],PARAMETER[\"latitude_of_center\",23],PARAMETER[\"longitude_of_center\",-96],PARAMETER[\"false_easting\",0],PARAMETER[\"false_northing\",0],UNIT[\"meters\",1]]\n"
     ]
    }
   ],
   "source": [
    "print('What CRS are we working in?')\n",
    "print('  crs of MSAs:', msas_profile['crs'])\n",
    "print('  crs of NLCD:', rprof['crs'])\n"
   ]
  },
  {
   "cell_type": "code",
   "execution_count": 9,
   "metadata": {},
   "outputs": [],
   "source": [
    "# changed coordinate system from the native crs of the shapefile to the native crs of the raster\n",
    "for shp in msas:\n",
    "    warp_shape(shp, msas_profile['crs'], rprof['crs'])"
   ]
  },
  {
   "cell_type": "code",
   "execution_count": 25,
   "metadata": {},
   "outputs": [
    {
     "name": "stdout",
     "output_type": "stream",
     "text": [
      "True\n",
      "MSA is centered at pixel [43273], [130738]\n"
     ]
    }
   ],
   "source": [
    "# exercise: figure out the pixel coordinate box that covers a given MSA\n",
    "msa = msas[100]\n",
    "msa_shply = shapely.geometry.shape(msa['geometry'])\n",
    "msa_bounds = msa_shply.bounds\n",
    "\n",
    "transform = rprof['transform']\n",
    "\n",
    "# replace me start\n",
    "centroid = msa_shply.centroid.xy\n",
    "x,y = centroid[0], centroid[1]\n",
    "i,j = rasterio.transform.rowcol(transform, x, y)\n",
    "\n",
    "print('MSA is centered at pixel {}, {}'.format(i,j))\n",
    "\n",
    "#with rasterio.open('./data/NLCD/NLCD_2016_Impervious_L48_20190405.img','r') as fid:\n",
    "#    msa_boxed_imp_surf = fid.read(1, window=Window(0, 0, 512, 256))\n",
    "\n",
    "\n",
    "\n",
    "plt.imshow(msa_boxed_imp_surf, extent=[msa_bounds[0], msa_bounds[2], msa_bounds[1], msa_bounds[3]])\n",
    "msa_shply_xy = np.array(msa_shply.exterior.xy)\n",
    "plt.plot(msa_shply_xy[0], msa_shply_xy[1])\n",
    "plt.show()"
   ]
  },
  {
   "cell_type": "code",
   "execution_count": null,
   "metadata": {},
   "outputs": [],
   "source": []
  }
 ],
 "metadata": {
  "kernelspec": {
   "display_name": "Python [conda env:ats_meshing_20190613]",
   "language": "python",
   "name": "conda-env-ats_meshing_20190613-py"
  },
  "language_info": {
   "codemirror_mode": {
    "name": "ipython",
    "version": 3
   },
   "file_extension": ".py",
   "mimetype": "text/x-python",
   "name": "python",
   "nbconvert_exporter": "python",
   "pygments_lexer": "ipython3",
   "version": "3.7.3"
  }
 },
 "nbformat": 4,
 "nbformat_minor": 2
}
