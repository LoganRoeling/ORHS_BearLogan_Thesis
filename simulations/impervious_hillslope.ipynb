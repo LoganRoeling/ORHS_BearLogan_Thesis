{
 "cells": [
  {
   "cell_type": "code",
   "execution_count": 1,
   "metadata": {},
   "outputs": [],
   "source": [
    "import sys,os\n",
    "import workflow.extrude\n",
    "import numpy as np\n",
    "from matplotlib import pyplot as plt\n"
   ]
  },
  {
   "cell_type": "code",
   "execution_count": 2,
   "metadata": {},
   "outputs": [
    {
     "name": "stdout",
     "output_type": "stream",
     "text": [
      "# of x and z elemets:  101 ,  101\n",
      "# of cells:  100\n"
     ]
    },
    {
     "data": {
      "image/png": "[encoded data removed]",
      "text/plain": [
       "<Figure size 432x288 with 1 Axes>"
      ]
     },
     "metadata": {
      "needs_background": "light"
     },
     "output_type": "display_data"
    }
   ],
   "source": [
    "# 1 km long hillslope, 10% slope\n",
    "x = np.linspace(0,1000,101)\n",
    "z = 60 - 0.06*x\n",
    "print('# of x and z elemets: ',len(x),', ',len(z))\n",
    "plt.plot(x,z); plt.xlabel('x distance (m)'); plt.ylabel('z elevation (m)')\n",
    "m2 = workflow.extrude.Mesh2D.from_Transect(x,z)\n",
    "print('# of cells: ', m2.num_cells())\n"
   ]
  },
  {
   "cell_type": "code",
   "execution_count": 3,
   "metadata": {},
   "outputs": [
    {
     "data": {
      "image/png": "[encoded data removed]",
      "text/plain": [
       "<Figure size 432x288 with 1 Axes>"
      ]
     },
     "metadata": {
      "needs_background": "light"
     },
     "output_type": "display_data"
    }
   ],
   "source": [
    "# Changing organic layer thickness \n",
    "def organic_thickness(x):\n",
    "    \"\"\"This function is the thickness of the layer we want to vary\"\"\"\n",
    "    if x < 400:\n",
    "        thickness = 0.\n",
    "    elif (x > 600):\n",
    "        thickness = 0.\n",
    "    else:\n",
    "        thickness = 0.1\n",
    "    return thickness\n",
    "\n",
    "org_layer_thickness = np.array([organic_thickness(xx) for xx in m2.coords[:,0]])\n",
    "plt.plot(x, org_layer_thickness[0:101]); plt.xlabel('x distance (m)'); plt.ylabel('org. layer thickness (m)');\n"
   ]
  },
  {
   "cell_type": "code",
   "execution_count": 4,
   "metadata": {},
   "outputs": [],
   "source": [
    "# preparing layer extrusion data for meshing_ats\n",
    "#\n",
    "# Meshes are extruded in the vertical by \"layer\", where a layer may \n",
    "# consist of multiple cells in the z direction.  These layers are \n",
    "# logical unit to make construction easier, and may or may not \n",
    "# correspond to material type (organic/mineral soil).\n",
    "# \n",
    "# The extrusion process is then given four lists, each of length\n",
    "# num_layers.\n",
    "#\n",
    "layer_types = []  # a list of strings that tell the extruding \n",
    "                  # code how to do the layers.  See meshing_ats \n",
    "                  # documentation for more, but here we will use\n",
    "                  # only \"constant\", which means that dz within\n",
    "                  # the layer is constant.\n",
    "\n",
    "layer_data = []   # this data depends upon the layer type, but\n",
    "                  # for constant is the thickness of the layer\n",
    "\n",
    "layer_ncells = [] # number of cells (in the vertical) in the layer.\n",
    "                  # The dz of each cell is the layer thickness / number of cells.\n",
    "\n",
    "layer_mat_ids = []# The material ID.  This may be either a constant int (for\n",
    "                  # unform layering) or an array of size [ncells_vertical x ncells_horizontal] in the layer \n",
    "                  # where each entry corresponds to the material ID of that cell.\n",
    "\n",
    "layer_depth = []  # used later to get the mat ids right, just for bookkeeping\n",
    "        \n",
    "# here we will only use 1 cell per layer, so layer thickness = dz.\n",
    "# We will also telescope the mesh, starting at 1cm grid cell and growing it larger in each layer.\n",
    "dz = .05\n",
    "current_depth = 0\n",
    "\n",
    "for i in range(2):\n",
    "    layer_data.append(dz)\n",
    "    layer_types.append(\"constant\")\n",
    "    layer_ncells.append(1)\n",
    "    current_depth += dz\n",
    "    layer_depth.append(current_depth)\n",
    "\n",
    "i = 0\n",
    "while dz < 2:\n",
    "    if i<=20:            #organic\n",
    "        dz *= 1.2\n",
    "\n",
    "    if dz < 2:\n",
    "        layer_types.append(\"constant\")\n",
    "        layer_data.append(dz)\n",
    "        layer_ncells.append(1)\n",
    "        current_depth += dz\n",
    "        layer_depth.append(current_depth)\n",
    "        i += 1\n",
    "    \n",
    "# now add in a bunch of cells to reach 45 m, of equal dz that is ~2m.\n",
    "num_of_layers=len(layer_data)\n",
    "layer_types.append('constant')\n",
    "layer_data.append(50 - sum(layer_data))  # note sum(layer_data) == the total mesh thickness at this point\n",
    "layer_ncells.append(int(np.floor(layer_data[-1]/dz)))\n",
    "layer_depth.append(50)\n"
   ]
  },
  {
   "cell_type": "code",
   "execution_count": 5,
   "metadata": {},
   "outputs": [
    {
     "name": "stdout",
     "output_type": "stream",
     "text": [
      "[0.05, 0.05, 0.06, 0.072, 0.08639999999999999, 0.10367999999999998, 0.12441599999999997, 0.14929919999999997, 0.17915903999999996, 0.21499084799999996, 0.2579890175999999, 0.3095868211199999, 0.37150418534399987, 0.44580502241279985, 0.5349660268953598, 0.6419592322744317, 0.7703510787293181, 0.9244212944751816, 1.1093055533702179, 1.3311666640442614, 1.5973999968531136, 1.9168799962237362, 38.69872002265758]\n",
      "[0.05, 0.1, 0.16, 0.23199999999999998, 0.31839999999999996, 0.42207999999999996, 0.5464959999999999, 0.6957951999999998, 0.8749542399999998, 1.0899450879999997, 1.3479341055999996, 1.6575209267199995, 2.0290251120639993, 2.4748301344767993, 3.009796161372159, 3.6517553936465905, 4.4221064723759085, 5.34652776685109, 6.455833320221308, 7.78699998426557, 9.384399981118683, 11.30127997734242, 50]\n"
     ]
    }
   ],
   "source": [
    "layer_ids = np.ones((100,len(layer_types)), 'i')\n",
    "print(layer_data)\n",
    "print(layer_depth)"
   ]
  },
  {
   "cell_type": "code",
   "execution_count": 6,
   "metadata": {},
   "outputs": [
    {
     "data": {
      "text/plain": [
       "(100, 23)"
      ]
     },
     "execution_count": 6,
     "metadata": {},
     "output_type": "execute_result"
    }
   ],
   "source": [
    "layer_ids.shape"
   ]
  },
  {
   "cell_type": "code",
   "execution_count": 7,
   "metadata": {},
   "outputs": [
    {
     "data": {
      "text/plain": [
       "<matplotlib.image.AxesImage at 0x1172a4908>"
      ]
     },
     "execution_count": 7,
     "metadata": {},
     "output_type": "execute_result"
    },
    {
     "data": {
      "image/png": "[encoded data removed]",
      "text/plain": [
       "<Figure size 432x288 with 1 Axes>"
      ]
     },
     "metadata": {
      "needs_background": "light"
     },
     "output_type": "display_data"
    }
   ],
   "source": [
    "layer_ids[:] = 101\n",
    "layer_ids[40:60, 0:2] = 102\n",
    "plt.imshow(layer_ids.transpose())"
   ]
  },
  {
   "cell_type": "code",
   "execution_count": 9,
   "metadata": {},
   "outputs": [],
   "source": [
    "m3 = workflow.extrude.Mesh3D.extruded_Mesh2D(m2, layer_types, layer_data, layer_ncells, layer_ids.transpose())"
   ]
  },
  {
   "cell_type": "code",
   "execution_count": 11,
   "metadata": {},
   "outputs": [
    {
     "name": "stdout",
     "output_type": "stream",
     "text": [
      "\n",
      "You are using exodus.py v 1.13 (seacas-beta), a python wrapper of some of the exodus library.\n",
      "\n",
      "Copyright (c) 2013, 2014, 2015, 2016, 2017, 2018, 2019 National Technology &\n",
      "Engineering Solutions of Sandia, LLC (NTESS).  Under the terms of\n",
      "Contract DE-NA0003525 with NTESS, the U.S. Government retains certain\n",
      "rights in this software.\n",
      "\n",
      "Opening exodus file: impervious_hillslope.exo\n",
      "Closing exodus file: impervious_hillslope.exo\n"
     ]
    }
   ],
   "source": [
    "m3.write_exodus('impervious_hillslope.exo')\n"
   ]
  },
  {
   "cell_type": "code",
   "execution_count": null,
   "metadata": {},
   "outputs": [],
   "source": []
  }
 ],
 "metadata": {
  "kernelspec": {
   "display_name": "Python [conda env:ats_meshing_20190719]",
   "language": "python",
   "name": "conda-env-ats_meshing_20190719-py"
  },
  "language_info": {
   "codemirror_mode": {
    "name": "ipython",
    "version": 3
   },
   "file_extension": ".py",
   "mimetype": "text/x-python",
   "name": "python",
   "nbconvert_exporter": "python",
   "pygments_lexer": "ipython3",
   "version": "3.7.3"
  }
 },
 "nbformat": 4,
 "nbformat_minor": 2
}
